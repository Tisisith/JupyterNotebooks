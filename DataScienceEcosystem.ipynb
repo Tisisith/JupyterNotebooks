{
 "cells": [
  {
   "cell_type": "markdown",
   "id": "6980065c-3579-4356-a8ad-5d6bf9fcf474",
   "metadata": {},
   "source": [
    "# Data Science Tools and Ecosystem"
   ]
  },
  {
   "cell_type": "markdown",
   "id": "cc93ca16-d0f3-469d-bc3e-d562e849f806",
   "metadata": {},
   "source": [
    "In this notebook, Data Science Tools and Ecosystem are summarized."
   ]
  },
  {
   "cell_type": "markdown",
   "id": "ad7276fa-93bf-4701-b5e6-40666a7ed05c",
   "metadata": {},
   "source": [
    "**Objectives:**\n",
    "\n",
    "* Know the popular languages in Data Science\n",
    "* Know commonly used libraries in Data Science\n",
    "* Evaluate Arithmetic Expressions in Python\n",
    "\n",
    "    "
   ]
  },
  {
   "cell_type": "markdown",
   "id": "75c1553e-7075-4ca6-ab24-7e36fd579a42",
   "metadata": {},
   "source": [
    "Some of the popular languages that Data Scientists use are:\n",
    "\n",
    "1. Python\n",
    "2. R\n",
    "3. SQL"
   ]
  },
  {
   "cell_type": "markdown",
   "id": "1e844dbc-3135-4437-a812-6a7cf30d8368",
   "metadata": {},
   "source": [
    "Some of the commonly used libraries used by Data Scientists include:\n",
    "\n",
    "1. Pandas\n",
    "2. Matplotlib\n",
    "3. SciKit-Learn"
   ]
  },
  {
   "cell_type": "markdown",
   "id": "92a15bce-7649-46ab-bab7-dbcfffc047e6",
   "metadata": {},
   "source": [
    "|Data Science Tools|\n",
    "|------------------|\n",
    "|JupyterLab|\n",
    "|VS Code|\n",
    "|Google Colaboratory|\n"
   ]
  },
  {
   "cell_type": "markdown",
   "id": "49fa797f-c84a-41e3-b48d-82b8c554f03f",
   "metadata": {},
   "source": [
    "### Below are a few examples of evaluating arithmetic expressions in Python ###"
   ]
  },
  {
   "cell_type": "code",
   "execution_count": 1,
   "id": "9a85b374-5d8a-40cc-95c7-92e5fec54e60",
   "metadata": {
    "tags": []
   },
   "outputs": [
    {
     "data": {
      "text/plain": [
       "17"
      ]
     },
     "execution_count": 1,
     "metadata": {},
     "output_type": "execute_result"
    }
   ],
   "source": [
    "# This is a simple arithmetic expression to multiply and add integers\n",
    "\n",
    "(3*4)+5"
   ]
  },
  {
   "cell_type": "code",
   "execution_count": 2,
   "id": "29aa896f-e231-4f95-a12d-14f2ca7bd63c",
   "metadata": {
    "tags": []
   },
   "outputs": [
    {
     "data": {
      "text/plain": [
       "3.3333333333333335"
      ]
     },
     "execution_count": 2,
     "metadata": {},
     "output_type": "execute_result"
    }
   ],
   "source": [
    "# This will convert 200 minutes to hours by dividing by 60\n",
    "\n",
    "200/60\n",
    "\n"
   ]
  },
  {
   "cell_type": "markdown",
   "id": "75fce3c5-ab76-441a-9db4-a3a6b987423a",
   "metadata": {},
   "source": [
    "## Author\n",
    "\n",
    "Nelson Espiritu"
   ]
  },
  {
   "cell_type": "code",
   "execution_count": null,
   "id": "0173779a-c356-448a-b220-3f7ec5217256",
   "metadata": {},
   "outputs": [],
   "source": []
  }
 ],
 "metadata": {
  "kernelspec": {
   "display_name": "Python",
   "language": "python",
   "name": "conda-env-python-py"
  },
  "language_info": {
   "codemirror_mode": {
    "name": "ipython",
    "version": 3
   },
   "file_extension": ".py",
   "mimetype": "text/x-python",
   "name": "python",
   "nbconvert_exporter": "python",
   "pygments_lexer": "ipython3",
   "version": "3.7.12"
  }
 },
 "nbformat": 4,
 "nbformat_minor": 5
}
